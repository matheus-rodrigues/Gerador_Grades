{
  "cells": [
    {
      "cell_type": "code",
      "execution_count": 1,
      "metadata": {
        "colab": {
          "base_uri": "https://localhost:8080/"
        },
        "id": "-rG0ypdSpiwj",
        "outputId": "ab257c36-b75c-4dae-8817-94e2f6f1e90f"
      },
      "outputs": [
        {
          "output_type": "stream",
          "name": "stdout",
          "text": [
            "Mounted at /content/drive\n"
          ]
        }
      ],
      "source": [
        "import pandas as pd\n",
        "import numpy as np\n",
        "from google.colab import drive\n",
        "drive.mount('/content/drive', force_remount=True)"
      ]
    },
    {
      "cell_type": "code",
      "execution_count": 2,
      "metadata": {
        "id": "O3Fqw4YIrHHr"
      },
      "outputs": [],
      "source": [
        "bcc = pd.read_csv('/content/drive/MyDrive/Cursos_Unifesp/BCC-Integral.csv')\n",
        "biotec = pd.read_csv('/content/drive/MyDrive/Cursos_Unifesp/BIOTEC-Integral.csv')\n",
        "bmc = pd.read_csv('/content/drive/MyDrive/Cursos_Unifesp/BMC-Integral.csv')\n",
        "ecomp = pd.read_csv('/content/drive/MyDrive/Cursos_Unifesp/ECOMP-Integral.csv')\n",
        "engbio = ('/content/drive/MyDrive/Cursos_Unifesp/ENGBIO-Integral.csv')\n",
        "materiais = ('/content/drive/MyDrive/Cursos_Unifesp/MATERIAIS-Integral.csv')\n",
        "\n",
        "lista_especificas = [[bcc, 'bcc'], [biotec, 'biotec'], [bmc, 'bmc'], [ecomp, 'ecomp'], [engbio, 'engbio'], [materiais, 'materiais']]"
      ]
    },
    {
      "cell_type": "code",
      "source": [
        "lista_regras = [['Cálculo em Várias Variáveis','Disciplina com dificuldade moderada-alta, é necessário uma dedicação de tempo maior nessa matéria.'],['Algoritmos e Estruturas de Dados II','Matéria importante para o eixo computacional, com dificuldade moderada e relacionando-se adequadamente com Circuitos Digitais e outras disciplinas do termo. '],['Circuitos Digitais','Além de ser uma disciplina de vários eixos, tem um taxa moderada de aprovação e se relaciona com diversas outras matérias, como Algoritmos e Estruturas de Dados II e Cálculo em Várias Variáveis. '],['Fenômenos Eletromagnéticos','Apresenta taxa de aprovação de 50\\%, deve-se tomar precauções acerca da sua dificuldade, ainda mais se relacionados com matérias como Circuitos Elétricos.'],['Circuitos Elétricos I','essa disciplina é fundamental nos eixos específicos de engenharia e é comumente associada com Fenômenos Eletromagnéticos.'],['Biologia Geral','mostra-se como uma opção consistente para a grade dos outros eixos.'],['Fenômenos Mecânicos', 'É uma das matérias obrigatórias de todos os eixos, se relaciona bem com Geometria Analítica.'],['Geometria Analítica',' Materia essencial para engenharias e eixos computacionais, se relaciona bem com Fenômenos Mecânicos.'],['CIência Tecnologia Sociedade e Ambiente', 'É uma matéria obrigatória e com alto nível de aprovação, contendo apenas uma aula por semana é uma boa alternativa para a grade.'],['Algoritmos e Estruturas de Dados I', 'Uma das matérias mais escolhidas e uma das mais importantes para os eixos de computação, possui dificuldade moderada, atente-se nela!!'],['Matemática Discreta', 'Essa disciplina é importante em diversos eixos, porém possui uma dificuldade elevada e um alto nível de reprovação, sobretudo se aliado à outras disciplinas trabalhosas, como Algoritmos e Estruturas de Dados. Reserve bastante tempo do seu semestre para os estudos.']]"
      ],
      "metadata": {
        "id": "_nkbd06R1yEc"
      },
      "execution_count": 3,
      "outputs": []
    },
    {
      "cell_type": "code",
      "execution_count": 5,
      "metadata": {
        "colab": {
          "base_uri": "https://localhost:8080/"
        },
        "id": "2DW8RwSJ6bUb",
        "outputId": "d4b5971e-b07b-4b22-930e-6f81f3b29dd9"
      },
      "outputs": [
        {
          "output_type": "stream",
          "name": "stdout",
          "text": [
            "bcc/2/3/nada\n",
            "['Algoritmos e Estruturas de Dados I', 'Geometria Analítica', 'Matemática Discreta']\n",
            "\n",
            "Geometria Analítica :  Materia essencial para engenharias e eixos computacionais, se relaciona bem com Fenômenos Mecânicos.\n",
            "Algoritmos e Estruturas de Dados I : Uma das matérias mais escolhidas e uma das mais importantes para os eixos de computação, possui dificuldade moderada, atente-se nela!!\n",
            "Matemática Discreta : Essa disciplina é importante em diversos eixos, porém possui uma dificuldade elevada e um alto nível de reprovação, sobretudo se aliado à outras disciplinas trabalhosas, como Algoritmos e Estruturas de Dados. Reserve bastante tempo do seu semestre para os estudos.\n"
          ]
        }
      ],
      "source": [
        "def ordenar(tupla):\n",
        "  return tupla[1]\n",
        "\n",
        "def gerador(especifico, termo, num_materias, reprovacoes):\n",
        "  for i in range(len(lista_especificas)):\n",
        "    if(especifico == lista_especificas[i][1]):\n",
        "      atual = lista_especificas[i][0]\n",
        "  termos = atual['Termo']\n",
        "  disciplinas_termo = np.where(termos==int(termo))\n",
        "  disciplinas = atual.values[disciplinas_termo, :]\n",
        "  lista_aux = []\n",
        "  lista_aux2 = []\n",
        "  for i in range(len(disciplinas[0])):\n",
        "    lista_aux.append([disciplinas[0][i][0], disciplinas[0][i][2], disciplinas[0][i][4], disciplinas[0][i][5], disciplinas[0][i][6], disciplinas[0][i][7], disciplinas[0][i][8]])\n",
        "    lista_aux2.append([disciplinas[0][i][0], disciplinas[0][i][2], disciplinas[0][i][1]])\n",
        "    lista_ordenada = sorted(lista_aux, key=ordenar, reverse=True)\n",
        "    lista_prereq = sorted(lista_aux2, key=ordenar, reverse=True)\n",
        "  for i in range(len(disciplinas[0])):\n",
        "    lista_ordenada[i].remove(lista_ordenada[i][1])\n",
        "    lista_prereq[i].remove(lista_prereq[i][1])\n",
        "  horarios = list(zip(*lista_ordenada))\n",
        "  materias_escolhidas = []\n",
        "  tamanho_grade = int(num_materias)\n",
        "  tamanho_horarios = len(horarios)\n",
        "  for k in range(tamanho_grade):\n",
        "    contador = 0\n",
        "    for j in range(1, tamanho_horarios):\n",
        "      atual = horarios[j][k]\n",
        "      for i in range(len(lista_ordenada)-1):\n",
        "        proximo = horarios[j][i]\n",
        "        if(atual == '-'):\n",
        "          contador += (len(lista_ordenada)-1)\n",
        "          break\n",
        "        elif(atual !=proximo):\n",
        "          contador += 1\n",
        "        elif(atual == proximo and i == k):\n",
        "          contador +=1\n",
        "    if(contador == (len(lista_ordenada)-1)*5):\n",
        "      if(reprovacoes not in lista_prereq[k][1]):\n",
        "        materias_escolhidas.append(horarios[0][k])\n",
        "  return(materias_escolhidas)\n",
        "\n",
        "entrada = input()\n",
        "lista = entrada.split('/')\n",
        "lista_disciplinas = gerador(lista[0], lista[1], lista[2], lista[3])\n",
        "print(lista_disciplinas)\n",
        "\n",
        "print()\n",
        "for i in range(len(lista_regras)):\n",
        "  for j in range(len(lista_disciplinas)):\n",
        "    if(lista_disciplinas[j] == lista_regras[i][0]):\n",
        "      print(lista_disciplinas[j],':', lista_regras[i][1])"
      ]
    }
  ],
  "metadata": {
    "colab": {
      "provenance": []
    },
    "kernelspec": {
      "display_name": "Python 3",
      "name": "python3"
    },
    "language_info": {
      "name": "python"
    }
  },
  "nbformat": 4,
  "nbformat_minor": 0
}